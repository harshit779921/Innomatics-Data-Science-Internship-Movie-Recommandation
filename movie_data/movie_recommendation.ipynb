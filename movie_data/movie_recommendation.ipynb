{
 "cells": [
  {
   "cell_type": "code",
   "execution_count": 1,
   "metadata": {},
   "outputs": [],
   "source": [
    "import pandas as pd\n",
    "import numpy as np\n",
    "import pandas as pd\n",
    "import matplotlib\n",
    "import matplotlib.pyplot as plt\n",
    "import seaborn as sns\n",
    "from datetime import datetime \n",
    "from scipy import stats\n",
    "from bs4 import BeautifulSoup\n",
    "\n",
    "import warnings\n",
    "warnings.filterwarnings(\"ignore\")\n"
   ]
  },
  {
   "cell_type": "code",
   "execution_count": 2,
   "metadata": {},
   "outputs": [],
   "source": [
    "# Load datasets\n",
    "links = pd.read_csv('links.csv')\n",
    "movies = pd.read_csv('movies.csv')\n",
    "ratings = pd.read_csv('ratings.csv')\n",
    "tags = pd.read_csv('tags.csv')"
   ]
  },
  {
   "cell_type": "code",
   "execution_count": 3,
   "metadata": {},
   "outputs": [
    {
     "name": "stdout",
     "output_type": "stream",
     "text": [
      "   movieId                               title  \\\n",
      "0        1                    Toy Story (1995)   \n",
      "1        2                      Jumanji (1995)   \n",
      "2        3             Grumpier Old Men (1995)   \n",
      "3        4            Waiting to Exhale (1995)   \n",
      "4        5  Father of the Bride Part II (1995)   \n",
      "\n",
      "                                        genres  \n",
      "0  Adventure|Animation|Children|Comedy|Fantasy  \n",
      "1                   Adventure|Children|Fantasy  \n",
      "2                               Comedy|Romance  \n",
      "3                         Comedy|Drama|Romance  \n",
      "4                                       Comedy  \n",
      "   userId  movieId  rating  timestamp\n",
      "0       1        1     4.0  964982703\n",
      "1       1        3     4.0  964981247\n",
      "2       1        6     4.0  964982224\n",
      "3       1       47     5.0  964983815\n",
      "4       1       50     5.0  964982931\n",
      "   userId  movieId              tag   timestamp\n",
      "0       2    60756            funny  1445714994\n",
      "1       2    60756  Highly quotable  1445714996\n",
      "2       2    60756     will ferrell  1445714992\n",
      "3       2    89774     Boxing story  1445715207\n",
      "4       2    89774              MMA  1445715200\n"
     ]
    }
   ],
   "source": [
    "print(movies.head())\n",
    "print(ratings.head())\n",
    "print(tags.head())\n"
   ]
  },
  {
   "cell_type": "code",
   "execution_count": 4,
   "metadata": {},
   "outputs": [
    {
     "name": "stdout",
     "output_type": "stream",
     "text": [
      "movieId\n",
      "88448     5.0\n",
      "100556    5.0\n",
      "143031    5.0\n",
      "143511    5.0\n",
      "143559    5.0\n",
      "6201      5.0\n",
      "102217    5.0\n",
      "102084    5.0\n",
      "6192      5.0\n",
      "145994    5.0\n",
      "Name: rating, dtype: float64\n"
     ]
    }
   ],
   "source": [
    "average_ratings = ratings.groupby('movieId')['rating'].mean()\n",
    "popular_movies = average_ratings.sort_values(ascending=False).head(10)\n",
    "print(popular_movies)"
   ]
  },
  {
   "cell_type": "code",
   "execution_count": 5,
   "metadata": {},
   "outputs": [
    {
     "name": "stdout",
     "output_type": "stream",
     "text": [
      "movieId\n",
      "356     329\n",
      "318     317\n",
      "296     307\n",
      "593     279\n",
      "2571    278\n",
      "260     251\n",
      "480     238\n",
      "110     237\n",
      "589     224\n",
      "527     220\n",
      "Name: rating, dtype: int64\n"
     ]
    }
   ],
   "source": [
    "rating_counts = ratings.groupby('movieId')['rating'].count()\n",
    "most_rated_movies = rating_counts.sort_values(ascending=False).head(10)\n",
    "print(most_rated_movies)"
   ]
  },
  {
   "cell_type": "code",
   "execution_count": 6,
   "metadata": {},
   "outputs": [
    {
     "name": "stdout",
     "output_type": "stream",
     "text": [
      "In Netflix queue     131\n",
      "atmospheric           36\n",
      "thought-provoking     24\n",
      "superhero             24\n",
      "funny                 23\n",
      "surreal               23\n",
      "Disney                23\n",
      "religion              22\n",
      "sci-fi                21\n",
      "quirky                21\n",
      "Name: tag, dtype: int64\n"
     ]
    }
   ],
   "source": [
    "tag_counts = tags['tag'].value_counts()\n",
    "common_tags = tag_counts.head(10)\n",
    "print(common_tags)\n"
   ]
  },
  {
   "cell_type": "code",
   "execution_count": 7,
   "metadata": {},
   "outputs": [
    {
     "name": "stdout",
     "output_type": "stream",
     "text": [
      "year\n",
      "1996    3.535927\n",
      "1997    3.727557\n",
      "1998    3.435897\n",
      "1999    3.772448\n",
      "2000    3.392506\n",
      "2001    3.512239\n",
      "2002    3.606958\n",
      "2003    3.499377\n",
      "2004    3.506099\n",
      "2005    3.431533\n",
      "2006    3.487928\n",
      "2007    3.309039\n",
      "2008    3.656746\n",
      "2009    3.392496\n",
      "2010    3.463494\n",
      "2011    3.784024\n",
      "2012    3.641323\n",
      "2013    3.877404\n",
      "2014    3.510771\n",
      "2015    3.513830\n",
      "2016    3.686334\n",
      "2017    3.348805\n",
      "2018    3.389062\n",
      "Name: rating, dtype: float64\n"
     ]
    }
   ],
   "source": [
    "ratings['timestamp'] = pd.to_datetime(ratings['timestamp'], unit='s')\n",
    "ratings['year'] = ratings['timestamp'].dt.year\n",
    "yearly_ratings = ratings.groupby('year')['rating'].mean()\n",
    "print(yearly_ratings)\n"
   ]
  },
  {
   "cell_type": "code",
   "execution_count": 8,
   "metadata": {},
   "outputs": [
    {
     "name": "stdout",
     "output_type": "stream",
     "text": [
      "Number of unique userId values: 610\n"
     ]
    }
   ],
   "source": [
    "unique_user_ids = ratings['userId'].nunique()\n",
    "\n",
    "print(f\"Number of unique userId values: {unique_user_ids}\")"
   ]
  },
  {
   "cell_type": "code",
   "execution_count": 9,
   "metadata": {},
   "outputs": [],
   "source": [
    "movie_rating_counts = ratings.groupby('movieId')['rating'].count()"
   ]
  },
  {
   "cell_type": "code",
   "execution_count": 10,
   "metadata": {},
   "outputs": [],
   "source": [
    "most_rated_movie_id = movie_rating_counts.idxmax()\n",
    "most_rated_movie_count = movie_rating_counts.max()"
   ]
  },
  {
   "cell_type": "code",
   "execution_count": 11,
   "metadata": {},
   "outputs": [
    {
     "name": "stdout",
     "output_type": "stream",
     "text": [
      "Movie ID with the maximum number of ratings: 356\n",
      "Number of ratings: 329\n"
     ]
    }
   ],
   "source": [
    "print(f\"Movie ID with the maximum number of ratings: {most_rated_movie_id}\")\n",
    "print(f\"Number of ratings: {most_rated_movie_count}\")"
   ]
  },
  {
   "cell_type": "code",
   "execution_count": 12,
   "metadata": {},
   "outputs": [],
   "source": [
    "most_rated_movie = movies[movies['movieId'] == most_rated_movie_id]"
   ]
  },
  {
   "cell_type": "code",
   "execution_count": 13,
   "metadata": {},
   "outputs": [
    {
     "name": "stdout",
     "output_type": "stream",
     "text": [
      "Movie Title: Forrest Gump (1994)\n",
      "Genre: Comedy|Drama|Romance|War\n"
     ]
    }
   ],
   "source": [
    "print(f\"Movie Title: {most_rated_movie['title'].values[0]}\")\n",
    "print(f\"Genre: {most_rated_movie['genres'].values[0]}\")"
   ]
  },
  {
   "cell_type": "code",
   "execution_count": 14,
   "metadata": {},
   "outputs": [],
   "source": [
    "movie_title = \"Matrix, The (1999)\"\n",
    "movie_id = movies[movies['title'] == movie_title]['movieId'].values[0]"
   ]
  },
  {
   "cell_type": "code",
   "execution_count": 15,
   "metadata": {},
   "outputs": [],
   "source": [
    "movie_tags = tags[tags['movieId'] == movie_id]"
   ]
  },
  {
   "cell_type": "code",
   "execution_count": 16,
   "metadata": {},
   "outputs": [
    {
     "name": "stdout",
     "output_type": "stream",
     "text": [
      "Tags for 'Matrix, The (1999)':\n",
      "['martial arts' 'sci-fi' 'alternate universe' 'philosophy'\n",
      " 'post apocalyptic']\n"
     ]
    }
   ],
   "source": [
    "unique_tags = movie_tags['tag'].unique()\n",
    "print(f\"Tags for '{movie_title}':\")\n",
    "print(unique_tags)"
   ]
  },
  {
   "cell_type": "code",
   "execution_count": 17,
   "metadata": {},
   "outputs": [],
   "source": [
    "movie_title = \"Terminator 2: Judgment Day (1991)\"\n",
    "movie_id = movies[movies['title'] == movie_title]['movieId'].values[0]"
   ]
  },
  {
   "cell_type": "code",
   "execution_count": 18,
   "metadata": {},
   "outputs": [],
   "source": [
    "movie_ratings = ratings[ratings['movieId'] == movie_id]\n"
   ]
  },
  {
   "cell_type": "code",
   "execution_count": 19,
   "metadata": {},
   "outputs": [
    {
     "name": "stdout",
     "output_type": "stream",
     "text": [
      "Average rating for 'Terminator 2: Judgment Day (1991)': 3.97\n"
     ]
    }
   ],
   "source": [
    "average_rating = movie_ratings['rating'].mean()\n",
    "\n",
    "print(f\"Average rating for '{movie_title}': {average_rating:.2f}\")"
   ]
  },
  {
   "cell_type": "code",
   "execution_count": 20,
   "metadata": {},
   "outputs": [],
   "source": [
    "movie_title = \"Fight Club (1999)\"\n",
    "movie_id = movies[movies['title'] == movie_title]['movieId'].values[0]"
   ]
  },
  {
   "cell_type": "code",
   "execution_count": 21,
   "metadata": {},
   "outputs": [],
   "source": [
    "fight_club_ratings = ratings[ratings['movieId'] == movie_id]"
   ]
  },
  {
   "cell_type": "code",
   "execution_count": 22,
   "metadata": {},
   "outputs": [
    {
     "data": {
      "image/png": "[encoded data removed]",
      "text/plain": [
       "<Figure size 1000x600 with 1 Axes>"
      ]
     },
     "metadata": {},
     "output_type": "display_data"
    }
   ],
   "source": [
    "plt.figure(figsize=(10, 6))\n",
    "sns.histplot(fight_club_ratings['rating'], bins=10, kde=True, stat='density', color='blue')\n",
    "plt.title(f'Distribution of User Ratings for \"{movie_title}\"')\n",
    "plt.xlabel('Rating')\n",
    "plt.ylabel('Density')\n",
    "plt.show()"
   ]
  },
  {
   "cell_type": "code",
   "execution_count": 23,
   "metadata": {},
   "outputs": [
    {
     "name": "stdout",
     "output_type": "stream",
     "text": [
      "Skewness of the rating distribution: -1.85\n"
     ]
    }
   ],
   "source": [
    "skewness = stats.skew(fight_club_ratings['rating'])\n",
    "print(f\"Skewness of the rating distribution: {skewness:.2f}\")"
   ]
  },
  {
   "cell_type": "code",
   "execution_count": 24,
   "metadata": {},
   "outputs": [
    {
     "name": "stdout",
     "output_type": "stream",
     "text": [
      "The distribution is left-skewed.\n"
     ]
    }
   ],
   "source": [
    "if skewness > 0:\n",
    "    print(\"The distribution is right-skewed.\")\n",
    "elif skewness < 0:\n",
    "    print(\"The distribution is left-skewed.\")\n",
    "else:\n",
    "    print(\"The distribution is approximately normal.\")"
   ]
  },
  {
   "cell_type": "code",
   "execution_count": 25,
   "metadata": {},
   "outputs": [],
   "source": [
    "# Group by movieId and calculate count and mean of ratings\n",
    "ratings_grouped = ratings.groupby('movieId')['rating'].agg(['count', 'mean']).reset_index()\n",
    "\n",
    "# Filter movies with more than 50 ratings\n",
    "ratings_filtered = ratings_grouped[ratings_grouped['count'] > 50]\n",
    "\n",
    "# Merge with movies DataFrame\n",
    "movies_filtered = pd.merge(ratings_filtered, movies, on='movieId')\n",
    "\n",
    "most_popular_movie = movies_filtered.loc[movies_filtered['mean'].idxmax()]"
   ]
  },
  {
   "cell_type": "code",
   "execution_count": 26,
   "metadata": {},
   "outputs": [
    {
     "name": "stdout",
     "output_type": "stream",
     "text": [
      "Most popular movie based on average user ratings:\n",
      "Title: Shawshank Redemption, The (1994)\n",
      "Average Rating: 4.43\n",
      "Number of Ratings: 317\n"
     ]
    }
   ],
   "source": [
    "print(f\"Most popular movie based on average user ratings:\")\n",
    "print(f\"Title: {most_popular_movie['title']}\")\n",
    "print(f\"Average Rating: {most_popular_movie['mean']:.2f}\")\n",
    "print(f\"Number of Ratings: {most_popular_movie['count']}\")"
   ]
  },
  {
   "cell_type": "code",
   "execution_count": 27,
   "metadata": {},
   "outputs": [],
   "source": [
    "ratings_grouped = ratings.groupby('movieId')['rating'].agg(['count', 'mean']).reset_index()\n",
    "\n",
    "# Filter movies with more than 50 ratings\n",
    "ratings_filtered = ratings_grouped[ratings_grouped['count'] > 50]\n",
    "\n",
    "# Merge with movies DataFrame\n",
    "movies_filtered = pd.merge(ratings_filtered, movies, on='movieId')\n",
    "\n",
    "# Sort by number of ratings and select top 5\n",
    "top_5_movies = movies_filtered.sort_values(by='count', ascending=False).head(5)\n"
   ]
  },
  {
   "cell_type": "code",
   "execution_count": 28,
   "metadata": {},
   "outputs": [
    {
     "name": "stdout",
     "output_type": "stream",
     "text": [
      "Top 5 popular movies based on number of user ratings:\n",
      "                                title  count\n",
      "61                Forrest Gump (1994)    329\n",
      "53   Shawshank Redemption, The (1994)    317\n",
      "49                Pulp Fiction (1994)    307\n",
      "99   Silence of the Lambs, The (1991)    279\n",
      "248                Matrix, The (1999)    278\n"
     ]
    }
   ],
   "source": [
    "print(\"Top 5 popular movies based on number of user ratings:\")\n",
    "print(top_5_movies[['title', 'count']])"
   ]
  },
  {
   "cell_type": "code",
   "execution_count": 29,
   "metadata": {},
   "outputs": [],
   "source": [
    "# Group by movieId and calculate count and mean of ratings\n",
    "ratings_grouped = ratings.groupby('movieId')['rating'].agg(['count', 'mean']).reset_index()\n",
    "\n",
    "# Filter movies with more than 50 ratings\n",
    "ratings_filtered = ratings_grouped[ratings_grouped['count'] > 50]\n",
    "\n",
    "# Merge with movies DataFrame\n",
    "movies_filtered = pd.merge(ratings_filtered, movies, on='movieId')\n",
    "\n",
    "# Filter for Sci-Fi genre\n",
    "sci_fi_movies = movies_filtered[movies_filtered['genres'].str.contains('Sci-Fi')]\n",
    "\n",
    "# Sort by number of ratings and select the third most popular\n",
    "third_most_popular_sci_fi = sci_fi_movies.sort_values(by='count', ascending=False).iloc[2]\n"
   ]
  },
  {
   "cell_type": "code",
   "execution_count": 30,
   "metadata": {},
   "outputs": [
    {
     "name": "stdout",
     "output_type": "stream",
     "text": [
      "Third most popular Sci-Fi movie based on number of user ratings:\n",
      "Title: Jurassic Park (1993)\n",
      "Number of Ratings: 238\n"
     ]
    }
   ],
   "source": [
    "print(\"Third most popular Sci-Fi movie based on number of user ratings:\")\n",
    "print(f\"Title: {third_most_popular_sci_fi['title']}\")\n",
    "print(f\"Number of Ratings: {third_most_popular_sci_fi['count']}\")"
   ]
  },
  {
   "cell_type": "code",
   "execution_count": 31,
   "metadata": {},
   "outputs": [
    {
     "name": "stdout",
     "output_type": "stream",
     "text": [
      "Columns in links.csv: Index(['movieId', 'imdbId', 'tmdbId'], dtype='object')\n"
     ]
    }
   ],
   "source": [
    "print(\"Columns in links.csv:\", links.columns)"
   ]
  },
  {
   "cell_type": "code",
   "execution_count": 32,
   "metadata": {},
   "outputs": [
    {
     "name": "stdout",
     "output_type": "stream",
     "text": [
      "Filtered movies saved to 'movies_filtered.csv'.\n"
     ]
    }
   ],
   "source": [
    "import pandas as pd\n",
    "\n",
    "# Load the datasets\n",
    "movies = pd.read_csv('movies.csv')  # Path to your movies.csv file\n",
    "ratings = pd.read_csv('ratings.csv')  # Path to your ratings.csv file\n",
    "\n",
    "# Calculate the number of ratings per movie\n",
    "ratings_count = ratings.groupby('movieId').size().reset_index(name='count')\n",
    "\n",
    "# Filter movies with more than 50 ratings\n",
    "filtered_movies = ratings_count[ratings_count['count'] > 50]\n",
    "\n",
    "# Merge with movies dataset to get movie details\n",
    "filtered_movies_df = pd.merge(filtered_movies, movies, on='movieId')\n",
    "\n",
    "# Save the filtered movies to a CSV file\n",
    "filtered_movies_df.to_csv('movies_filtered.csv', index=False)\n",
    "\n",
    "print(\"Filtered movies saved to 'movies_filtered.csv'.\")\n"
   ]
  },
  {
   "cell_type": "code",
   "execution_count": 34,
   "metadata": {},
   "outputs": [
    {
     "name": "stdout",
     "output_type": "stream",
     "text": [
      "Fetched IMDB rating for movieId 1: nan\n",
      "Fetched IMDB rating for movieId 2: nan\n",
      "Fetched IMDB rating for movieId 3: nan\n",
      "Fetched IMDB rating for movieId 6: nan\n",
      "Fetched IMDB rating for movieId 7: nan\n",
      "Fetched IMDB rating for movieId 10: nan\n",
      "Fetched IMDB rating for movieId 11: nan\n",
      "Fetched IMDB rating for movieId 16: nan\n",
      "Fetched IMDB rating for movieId 17: nan\n",
      "Fetched IMDB rating for movieId 19: nan\n",
      "Fetched IMDB rating for movieId 21: nan\n",
      "Fetched IMDB rating for movieId 25: nan\n",
      "Fetched IMDB rating for movieId 32: nan\n",
      "Fetched IMDB rating for movieId 34: nan\n",
      "Fetched IMDB rating for movieId 36: nan\n",
      "Fetched IMDB rating for movieId 39: nan\n",
      "Fetched IMDB rating for movieId 47: nan\n",
      "Fetched IMDB rating for movieId 48: nan\n",
      "Fetched IMDB rating for movieId 50: nan\n",
      "Fetched IMDB rating for movieId 62: nan\n",
      "Fetched IMDB rating for movieId 70: nan\n",
      "Fetched IMDB rating for movieId 95: nan\n",
      "Fetched IMDB rating for movieId 104: nan\n",
      "Fetched IMDB rating for movieId 110: nan\n",
      "Fetched IMDB rating for movieId 111: nan\n",
      "Fetched IMDB rating for movieId 141: nan\n",
      "Fetched IMDB rating for movieId 145: nan\n",
      "Fetched IMDB rating for movieId 150: nan\n",
      "Fetched IMDB rating for movieId 153: nan\n",
      "Fetched IMDB rating for movieId 158: nan\n",
      "Fetched IMDB rating for movieId 160: nan\n",
      "Fetched IMDB rating for movieId 161: nan\n",
      "Fetched IMDB rating for movieId 163: nan\n",
      "Fetched IMDB rating for movieId 165: nan\n",
      "Fetched IMDB rating for movieId 168: nan\n",
      "Fetched IMDB rating for movieId 172: nan\n",
      "Fetched IMDB rating for movieId 173: nan\n",
      "Fetched IMDB rating for movieId 185: nan\n",
      "Fetched IMDB rating for movieId 208: nan\n",
      "Fetched IMDB rating for movieId 223: nan\n",
      "Fetched IMDB rating for movieId 225: nan\n",
      "Fetched IMDB rating for movieId 231: nan\n",
      "Fetched IMDB rating for movieId 235: nan\n",
      "Fetched IMDB rating for movieId 253: nan\n",
      "Fetched IMDB rating for movieId 260: nan\n",
      "Fetched IMDB rating for movieId 266: nan\n",
      "Fetched IMDB rating for movieId 288: nan\n",
      "Fetched IMDB rating for movieId 292: nan\n",
      "Fetched IMDB rating for movieId 293: nan\n",
      "Fetched IMDB rating for movieId 296: nan\n",
      "Fetched IMDB rating for movieId 300: nan\n",
      "Fetched IMDB rating for movieId 316: nan\n",
      "Fetched IMDB rating for movieId 317: nan\n",
      "Fetched IMDB rating for movieId 318: nan\n",
      "Fetched IMDB rating for movieId 329: nan\n",
      "Fetched IMDB rating for movieId 337: nan\n",
      "Fetched IMDB rating for movieId 339: nan\n",
      "Fetched IMDB rating for movieId 344: nan\n",
      "Fetched IMDB rating for movieId 349: nan\n",
      "Fetched IMDB rating for movieId 350: nan\n",
      "Fetched IMDB rating for movieId 353: nan\n",
      "Fetched IMDB rating for movieId 356: nan\n",
      "Fetched IMDB rating for movieId 357: nan\n",
      "Fetched IMDB rating for movieId 364: nan\n",
      "Fetched IMDB rating for movieId 367: nan\n",
      "Fetched IMDB rating for movieId 368: nan\n",
      "Fetched IMDB rating for movieId 370: nan\n",
      "Fetched IMDB rating for movieId 377: nan\n",
      "Fetched IMDB rating for movieId 380: nan\n",
      "Fetched IMDB rating for movieId 410: nan\n",
      "Fetched IMDB rating for movieId 420: nan\n",
      "Fetched IMDB rating for movieId 432: nan\n",
      "Fetched IMDB rating for movieId 434: nan\n",
      "Fetched IMDB rating for movieId 435: nan\n",
      "Fetched IMDB rating for movieId 440: nan\n",
      "Fetched IMDB rating for movieId 442: nan\n",
      "Fetched IMDB rating for movieId 454: nan\n",
      "Fetched IMDB rating for movieId 457: nan\n",
      "Fetched IMDB rating for movieId 466: nan\n",
      "Fetched IMDB rating for movieId 474: nan\n",
      "Fetched IMDB rating for movieId 480: nan\n",
      "Fetched IMDB rating for movieId 485: nan\n",
      "Fetched IMDB rating for movieId 500: nan\n",
      "Fetched IMDB rating for movieId 508: nan\n",
      "Fetched IMDB rating for movieId 509: nan\n",
      "Fetched IMDB rating for movieId 520: nan\n",
      "Fetched IMDB rating for movieId 527: nan\n",
      "Fetched IMDB rating for movieId 539: nan\n",
      "Fetched IMDB rating for movieId 541: nan\n",
      "Fetched IMDB rating for movieId 551: nan\n",
      "Fetched IMDB rating for movieId 552: nan\n",
      "Fetched IMDB rating for movieId 553: nan\n",
      "Fetched IMDB rating for movieId 555: nan\n",
      "Fetched IMDB rating for movieId 586: nan\n",
      "Fetched IMDB rating for movieId 587: nan\n",
      "Fetched IMDB rating for movieId 588: nan\n",
      "Fetched IMDB rating for movieId 589: nan\n",
      "Fetched IMDB rating for movieId 590: nan\n",
      "Fetched IMDB rating for movieId 592: nan\n",
      "Fetched IMDB rating for movieId 593: nan\n",
      "Fetched IMDB rating for movieId 594: nan\n",
      "Fetched IMDB rating for movieId 595: nan\n",
      "Fetched IMDB rating for movieId 596: nan\n",
      "Fetched IMDB rating for movieId 597: nan\n",
      "Fetched IMDB rating for movieId 608: nan\n",
      "Fetched IMDB rating for movieId 648: nan\n",
      "Fetched IMDB rating for movieId 653: nan\n",
      "Fetched IMDB rating for movieId 673: nan\n",
      "Fetched IMDB rating for movieId 708: nan\n",
      "Fetched IMDB rating for movieId 733: nan\n",
      "Fetched IMDB rating for movieId 736: nan\n",
      "Fetched IMDB rating for movieId 750: nan\n",
      "Fetched IMDB rating for movieId 778: nan\n",
      "Fetched IMDB rating for movieId 780: nan\n",
      "Fetched IMDB rating for movieId 784: nan\n",
      "Fetched IMDB rating for movieId 786: nan\n",
      "Fetched IMDB rating for movieId 788: nan\n",
      "Fetched IMDB rating for movieId 858: nan\n",
      "Fetched IMDB rating for movieId 903: nan\n",
      "Fetched IMDB rating for movieId 904: nan\n",
      "Fetched IMDB rating for movieId 908: nan\n",
      "Fetched IMDB rating for movieId 912: nan\n",
      "Fetched IMDB rating for movieId 919: nan\n",
      "Fetched IMDB rating for movieId 923: nan\n",
      "Fetched IMDB rating for movieId 924: nan\n",
      "Fetched IMDB rating for movieId 953: nan\n",
      "Fetched IMDB rating for movieId 1028: nan\n",
      "Fetched IMDB rating for movieId 1035: nan\n",
      "Fetched IMDB rating for movieId 1036: nan\n",
      "Fetched IMDB rating for movieId 1073: nan\n",
      "Fetched IMDB rating for movieId 1079: nan\n",
      "Fetched IMDB rating for movieId 1080: nan\n",
      "Fetched IMDB rating for movieId 1089: nan\n",
      "Fetched IMDB rating for movieId 1090: nan\n",
      "Fetched IMDB rating for movieId 1097: nan\n",
      "Fetched IMDB rating for movieId 1101: nan\n",
      "Fetched IMDB rating for movieId 1127: nan\n",
      "Fetched IMDB rating for movieId 1136: nan\n",
      "Fetched IMDB rating for movieId 1148: nan\n",
      "Fetched IMDB rating for movieId 1193: nan\n",
      "Fetched IMDB rating for movieId 1196: nan\n",
      "Fetched IMDB rating for movieId 1197: nan\n",
      "Fetched IMDB rating for movieId 1198: nan\n",
      "Fetched IMDB rating for movieId 1199: nan\n",
      "Fetched IMDB rating for movieId 1200: nan\n",
      "Fetched IMDB rating for movieId 1201: nan\n",
      "Fetched IMDB rating for movieId 1203: nan\n",
      "Fetched IMDB rating for movieId 1206: nan\n",
      "Fetched IMDB rating for movieId 1207: nan\n",
      "Fetched IMDB rating for movieId 1208: nan\n",
      "Fetched IMDB rating for movieId 1210: nan\n",
      "Fetched IMDB rating for movieId 1213: nan\n",
      "Fetched IMDB rating for movieId 1214: nan\n",
      "Fetched IMDB rating for movieId 1215: nan\n",
      "Fetched IMDB rating for movieId 1219: nan\n",
      "Fetched IMDB rating for movieId 1220: nan\n",
      "Fetched IMDB rating for movieId 1221: nan\n",
      "Fetched IMDB rating for movieId 1222: nan\n",
      "Fetched IMDB rating for movieId 1225: nan\n",
      "Fetched IMDB rating for movieId 1230: nan\n",
      "Fetched IMDB rating for movieId 1234: nan\n",
      "Fetched IMDB rating for movieId 1240: nan\n",
      "Fetched IMDB rating for movieId 1246: nan\n",
      "Fetched IMDB rating for movieId 1247: nan\n",
      "Fetched IMDB rating for movieId 1252: nan\n",
      "Fetched IMDB rating for movieId 1258: nan\n",
      "Fetched IMDB rating for movieId 1259: nan\n",
      "Fetched IMDB rating for movieId 1265: nan\n",
      "Fetched IMDB rating for movieId 1270: nan\n",
      "Fetched IMDB rating for movieId 1276: nan\n",
      "Fetched IMDB rating for movieId 1278: nan\n",
      "Fetched IMDB rating for movieId 1282: nan\n",
      "Fetched IMDB rating for movieId 1288: nan\n",
      "Fetched IMDB rating for movieId 1291: nan\n",
      "Fetched IMDB rating for movieId 1302: nan\n",
      "Fetched IMDB rating for movieId 1304: nan\n",
      "Fetched IMDB rating for movieId 1307: nan\n",
      "Fetched IMDB rating for movieId 1356: nan\n",
      "Fetched IMDB rating for movieId 1370: nan\n",
      "Fetched IMDB rating for movieId 1374: nan\n",
      "Fetched IMDB rating for movieId 1377: nan\n",
      "Fetched IMDB rating for movieId 1380: nan\n",
      "Fetched IMDB rating for movieId 1387: nan\n",
      "Fetched IMDB rating for movieId 1391: nan\n",
      "Fetched IMDB rating for movieId 1393: nan\n",
      "Fetched IMDB rating for movieId 1394: nan\n",
      "Fetched IMDB rating for movieId 1407: nan\n",
      "Fetched IMDB rating for movieId 1466: nan\n",
      "Fetched IMDB rating for movieId 1485: nan\n",
      "Fetched IMDB rating for movieId 1500: nan\n",
      "Fetched IMDB rating for movieId 1517: nan\n",
      "Fetched IMDB rating for movieId 1527: nan\n",
      "Fetched IMDB rating for movieId 1544: nan\n",
      "Fetched IMDB rating for movieId 1552: nan\n",
      "Fetched IMDB rating for movieId 1573: nan\n",
      "Fetched IMDB rating for movieId 1580: nan\n",
      "Fetched IMDB rating for movieId 1584: nan\n",
      "Fetched IMDB rating for movieId 1608: nan\n",
      "Fetched IMDB rating for movieId 1610: nan\n",
      "Fetched IMDB rating for movieId 1617: nan\n",
      "Fetched IMDB rating for movieId 1625: nan\n",
      "Fetched IMDB rating for movieId 1639: nan\n",
      "Fetched IMDB rating for movieId 1641: nan\n",
      "Fetched IMDB rating for movieId 1645: nan\n",
      "Fetched IMDB rating for movieId 1653: nan\n",
      "Fetched IMDB rating for movieId 1676: nan\n",
      "Fetched IMDB rating for movieId 1682: nan\n",
      "Fetched IMDB rating for movieId 1704: nan\n",
      "Fetched IMDB rating for movieId 1721: nan\n",
      "Fetched IMDB rating for movieId 1732: nan\n",
      "Fetched IMDB rating for movieId 1777: nan\n",
      "Fetched IMDB rating for movieId 1784: nan\n",
      "Fetched IMDB rating for movieId 1917: nan\n",
      "Fetched IMDB rating for movieId 1923: nan\n",
      "Fetched IMDB rating for movieId 1954: nan\n",
      "Fetched IMDB rating for movieId 1961: nan\n",
      "Fetched IMDB rating for movieId 1968: nan\n",
      "Fetched IMDB rating for movieId 1997: nan\n",
      "Fetched IMDB rating for movieId 2000: nan\n",
      "Fetched IMDB rating for movieId 2005: nan\n",
      "Fetched IMDB rating for movieId 2006: nan\n",
      "Fetched IMDB rating for movieId 2011: nan\n",
      "Fetched IMDB rating for movieId 2012: nan\n",
      "Fetched IMDB rating for movieId 2028: nan\n",
      "Fetched IMDB rating for movieId 2054: nan\n",
      "Fetched IMDB rating for movieId 2078: nan\n",
      "Fetched IMDB rating for movieId 2080: nan\n",
      "Fetched IMDB rating for movieId 2081: nan\n",
      "Fetched IMDB rating for movieId 2100: nan\n",
      "Fetched IMDB rating for movieId 2115: nan\n",
      "Fetched IMDB rating for movieId 2167: nan\n",
      "Fetched IMDB rating for movieId 2174: nan\n",
      "Fetched IMDB rating for movieId 2194: nan\n",
      "Fetched IMDB rating for movieId 2268: nan\n",
      "Fetched IMDB rating for movieId 2291: nan\n",
      "Fetched IMDB rating for movieId 2302: nan\n",
      "Fetched IMDB rating for movieId 2321: nan\n",
      "Fetched IMDB rating for movieId 2324: nan\n",
      "Fetched IMDB rating for movieId 2329: nan\n",
      "Fetched IMDB rating for movieId 2353: nan\n",
      "Fetched IMDB rating for movieId 2355: nan\n",
      "Fetched IMDB rating for movieId 2395: nan\n",
      "Fetched IMDB rating for movieId 2396: nan\n",
      "Fetched IMDB rating for movieId 2406: nan\n",
      "Fetched IMDB rating for movieId 2470: nan\n",
      "Fetched IMDB rating for movieId 2502: nan\n",
      "Fetched IMDB rating for movieId 2529: nan\n",
      "Fetched IMDB rating for movieId 2542: nan\n",
      "Fetched IMDB rating for movieId 2571: nan\n",
      "Fetched IMDB rating for movieId 2572: nan\n",
      "Fetched IMDB rating for movieId 2599: nan\n",
      "Fetched IMDB rating for movieId 2617: nan\n",
      "Fetched IMDB rating for movieId 2628: nan\n",
      "Fetched IMDB rating for movieId 2640: nan\n",
      "Fetched IMDB rating for movieId 2657: nan\n",
      "Fetched IMDB rating for movieId 2671: nan\n",
      "Fetched IMDB rating for movieId 2683: nan\n",
      "Fetched IMDB rating for movieId 2692: nan\n",
      "Fetched IMDB rating for movieId 2699: nan\n",
      "Fetched IMDB rating for movieId 2700: nan\n",
      "Fetched IMDB rating for movieId 2701: nan\n",
      "Fetched IMDB rating for movieId 2706: nan\n",
      "Fetched IMDB rating for movieId 2710: nan\n",
      "Fetched IMDB rating for movieId 2712: nan\n",
      "Fetched IMDB rating for movieId 2716: nan\n",
      "Fetched IMDB rating for movieId 2762: nan\n",
      "Fetched IMDB rating for movieId 2791: nan\n",
      "Fetched IMDB rating for movieId 2797: nan\n",
      "Fetched IMDB rating for movieId 2804: nan\n",
      "Fetched IMDB rating for movieId 2858: nan\n",
      "Fetched IMDB rating for movieId 2916: nan\n",
      "Fetched IMDB rating for movieId 2918: nan\n",
      "Fetched IMDB rating for movieId 2947: nan\n",
      "Fetched IMDB rating for movieId 2959: nan\n",
      "Fetched IMDB rating for movieId 2985: nan\n",
      "Fetched IMDB rating for movieId 2987: nan\n",
      "Fetched IMDB rating for movieId 2997: nan\n",
      "Fetched IMDB rating for movieId 3033: nan\n",
      "Fetched IMDB rating for movieId 3052: nan\n",
      "Fetched IMDB rating for movieId 3081: nan\n",
      "Fetched IMDB rating for movieId 3114: nan\n",
      "Fetched IMDB rating for movieId 3147: nan\n",
      "Fetched IMDB rating for movieId 3160: nan\n",
      "Fetched IMDB rating for movieId 3175: nan\n",
      "Fetched IMDB rating for movieId 3253: nan\n",
      "Fetched IMDB rating for movieId 3408: nan\n",
      "Fetched IMDB rating for movieId 3421: nan\n",
      "Fetched IMDB rating for movieId 3471: nan\n",
      "Fetched IMDB rating for movieId 3481: nan\n",
      "Fetched IMDB rating for movieId 3489: nan\n",
      "Fetched IMDB rating for movieId 3527: nan\n",
      "Fetched IMDB rating for movieId 3535: nan\n",
      "Fetched IMDB rating for movieId 3552: nan\n",
      "Fetched IMDB rating for movieId 3578: nan\n",
      "Fetched IMDB rating for movieId 3623: nan\n",
      "Fetched IMDB rating for movieId 3671: nan\n",
      "Fetched IMDB rating for movieId 3717: nan\n",
      "Fetched IMDB rating for movieId 3751: nan\n",
      "Fetched IMDB rating for movieId 3753: nan\n",
      "Fetched IMDB rating for movieId 3793: nan\n",
      "Fetched IMDB rating for movieId 3897: nan\n",
      "Fetched IMDB rating for movieId 3911: nan\n",
      "Fetched IMDB rating for movieId 3948: nan\n",
      "Fetched IMDB rating for movieId 3949: nan\n",
      "Fetched IMDB rating for movieId 3977: nan\n",
      "Fetched IMDB rating for movieId 3994: nan\n",
      "Fetched IMDB rating for movieId 3996: nan\n",
      "Fetched IMDB rating for movieId 4011: nan\n",
      "Fetched IMDB rating for movieId 4018: nan\n",
      "Fetched IMDB rating for movieId 4022: nan\n",
      "Fetched IMDB rating for movieId 4025: nan\n",
      "Fetched IMDB rating for movieId 4027: nan\n",
      "Fetched IMDB rating for movieId 4034: nan\n",
      "Fetched IMDB rating for movieId 4226: nan\n",
      "Fetched IMDB rating for movieId 4239: nan\n",
      "Fetched IMDB rating for movieId 4246: nan\n",
      "Fetched IMDB rating for movieId 4262: nan\n",
      "Fetched IMDB rating for movieId 4306: nan\n",
      "Fetched IMDB rating for movieId 4308: nan\n",
      "Fetched IMDB rating for movieId 4370: nan\n",
      "Fetched IMDB rating for movieId 4447: nan\n",
      "Fetched IMDB rating for movieId 4720: nan\n",
      "Fetched IMDB rating for movieId 4776: nan\n",
      "Fetched IMDB rating for movieId 4816: nan\n",
      "Fetched IMDB rating for movieId 4848: nan\n",
      "Fetched IMDB rating for movieId 4878: nan\n",
      "Fetched IMDB rating for movieId 4886: nan\n",
      "Fetched IMDB rating for movieId 4896: nan\n",
      "Fetched IMDB rating for movieId 4963: nan\n",
      "Fetched IMDB rating for movieId 4973: nan\n",
      "Fetched IMDB rating for movieId 4979: nan\n",
      "Fetched IMDB rating for movieId 4993: nan\n",
      "Fetched IMDB rating for movieId 4995: nan\n",
      "Fetched IMDB rating for movieId 5218: nan\n",
      "Fetched IMDB rating for movieId 5299: nan\n",
      "Fetched IMDB rating for movieId 5349: nan\n",
      "Fetched IMDB rating for movieId 5378: nan\n",
      "Fetched IMDB rating for movieId 5418: nan\n",
      "Fetched IMDB rating for movieId 5445: nan\n",
      "Fetched IMDB rating for movieId 5459: nan\n",
      "Fetched IMDB rating for movieId 5481: nan\n",
      "Fetched IMDB rating for movieId 5502: nan\n",
      "Fetched IMDB rating for movieId 5618: nan\n",
      "Fetched IMDB rating for movieId 5669: nan\n",
      "Fetched IMDB rating for movieId 5816: nan\n",
      "Fetched IMDB rating for movieId 5952: nan\n",
      "Fetched IMDB rating for movieId 5956: nan\n",
      "Fetched IMDB rating for movieId 5989: nan\n",
      "Fetched IMDB rating for movieId 6016: nan\n",
      "Fetched IMDB rating for movieId 6333: nan\n",
      "Fetched IMDB rating for movieId 6365: nan\n",
      "Fetched IMDB rating for movieId 6373: nan\n",
      "Fetched IMDB rating for movieId 6377: nan\n",
      "Fetched IMDB rating for movieId 6378: nan\n",
      "Fetched IMDB rating for movieId 6502: nan\n",
      "Fetched IMDB rating for movieId 6539: nan\n",
      "Fetched IMDB rating for movieId 6711: nan\n",
      "Fetched IMDB rating for movieId 6863: nan\n",
      "Fetched IMDB rating for movieId 6870: nan\n",
      "Fetched IMDB rating for movieId 6874: nan\n",
      "Fetched IMDB rating for movieId 6934: nan\n",
      "Fetched IMDB rating for movieId 6942: nan\n",
      "Fetched IMDB rating for movieId 7143: nan\n",
      "Fetched IMDB rating for movieId 7147: nan\n",
      "Fetched IMDB rating for movieId 7153: nan\n",
      "Fetched IMDB rating for movieId 7361: nan\n",
      "Fetched IMDB rating for movieId 7438: nan\n",
      "Fetched IMDB rating for movieId 8360: nan\n",
      "Fetched IMDB rating for movieId 8368: nan\n",
      "Fetched IMDB rating for movieId 8636: nan\n",
      "Fetched IMDB rating for movieId 8641: nan\n",
      "Fetched IMDB rating for movieId 8644: nan\n",
      "Fetched IMDB rating for movieId 8665: nan\n",
      "Fetched IMDB rating for movieId 8874: nan\n",
      "Fetched IMDB rating for movieId 8961: nan\n",
      "Fetched IMDB rating for movieId 30707: nan\n",
      "Fetched IMDB rating for movieId 30793: nan\n",
      "Fetched IMDB rating for movieId 32587: nan\n",
      "Fetched IMDB rating for movieId 33493: nan\n",
      "Fetched IMDB rating for movieId 33679: nan\n",
      "Fetched IMDB rating for movieId 33794: nan\n",
      "Fetched IMDB rating for movieId 34162: nan\n",
      "Fetched IMDB rating for movieId 35836: nan\n",
      "Fetched IMDB rating for movieId 40815: nan\n",
      "Fetched IMDB rating for movieId 41566: nan\n",
      "Fetched IMDB rating for movieId 44191: nan\n",
      "Fetched IMDB rating for movieId 45499: nan\n",
      "Fetched IMDB rating for movieId 45722: nan\n",
      "Fetched IMDB rating for movieId 46578: nan\n",
      "Fetched IMDB rating for movieId 48385: nan\n",
      "Fetched IMDB rating for movieId 48394: nan\n",
      "Fetched IMDB rating for movieId 48516: nan\n",
      "Fetched IMDB rating for movieId 48774: nan\n",
      "Fetched IMDB rating for movieId 48780: nan\n",
      "Fetched IMDB rating for movieId 49272: nan\n",
      "Fetched IMDB rating for movieId 49530: nan\n",
      "Fetched IMDB rating for movieId 50872: nan\n",
      "Fetched IMDB rating for movieId 51255: nan\n",
      "Fetched IMDB rating for movieId 51662: nan\n",
      "Fetched IMDB rating for movieId 52973: nan\n",
      "Fetched IMDB rating for movieId 53125: nan\n",
      "Fetched IMDB rating for movieId 54001: nan\n",
      "Fetched IMDB rating for movieId 54286: nan\n",
      "Fetched IMDB rating for movieId 54503: nan\n",
      "Fetched IMDB rating for movieId 55820: nan\n",
      "Fetched IMDB rating for movieId 56174: nan\n",
      "Fetched IMDB rating for movieId 56367: nan\n",
      "Fetched IMDB rating for movieId 58559: nan\n",
      "Fetched IMDB rating for movieId 59315: nan\n",
      "Fetched IMDB rating for movieId 59784: nan\n",
      "Fetched IMDB rating for movieId 60069: nan\n",
      "Fetched IMDB rating for movieId 63082: nan\n",
      "Fetched IMDB rating for movieId 68157: nan\n",
      "Fetched IMDB rating for movieId 68358: nan\n",
      "Fetched IMDB rating for movieId 68954: nan\n",
      "Fetched IMDB rating for movieId 69122: nan\n",
      "Fetched IMDB rating for movieId 69844: nan\n",
      "Fetched IMDB rating for movieId 70286: nan\n",
      "Fetched IMDB rating for movieId 71535: nan\n",
      "Fetched IMDB rating for movieId 72998: nan\n",
      "Fetched IMDB rating for movieId 73017: nan\n",
      "Fetched IMDB rating for movieId 74458: nan\n",
      "Fetched IMDB rating for movieId 76093: nan\n",
      "Fetched IMDB rating for movieId 78499: nan\n",
      "Fetched IMDB rating for movieId 79132: nan\n",
      "Fetched IMDB rating for movieId 80463: nan\n",
      "Fetched IMDB rating for movieId 81845: nan\n",
      "Fetched IMDB rating for movieId 89745: nan\n",
      "Fetched IMDB rating for movieId 91500: nan\n",
      "Fetched IMDB rating for movieId 91529: nan\n",
      "Fetched IMDB rating for movieId 99114: nan\n",
      "Fetched IMDB rating for movieId 106782: nan\n",
      "Fetched IMDB rating for movieId 109374: nan\n",
      "Fetched IMDB rating for movieId 109487: nan\n",
      "Fetched IMDB rating for movieId 112852: nan\n",
      "Fetched IMDB rating for movieId 122904: nan\n",
      "MovieId of the movie with the highest IMDB rating: 1\n",
      "Highest IMDB Rating: nan\n"
     ]
    }
   ],
   "source": [
    "import pandas as pd\n",
    "import requests\n",
    "import numpy as np\n",
    "from bs4 import BeautifulSoup\n",
    "\n",
    "# Define the scrapper function to fetch IMDB rating\n",
    "def scrapper(imdbId):\n",
    "    id = str(int(imdbId))\n",
    "    n_zeroes = 7 - len(id)\n",
    "    new_id = \"0\" * n_zeroes + id\n",
    "    URL = f\"https://www.imdb.com/title/tt{new_id}/\"\n",
    "    request_header = {\n",
    "        'Content-Type': 'text/html; charset=UTF-8', \n",
    "        'User-Agent': 'Chrome/5.0 (Windows NT 10.0; Win64; x64; rv:109.0) Gecko/20100101 Chrome/119.0', \n",
    "        'Accept-Encoding': 'gzip, deflate, br'\n",
    "    }\n",
    "    \n",
    "    response = requests.get(URL, headers=request_header)\n",
    "    soup = BeautifulSoup(response.text, 'html.parser')\n",
    "    imdb_rating = soup.find('span', attrs={'itemprop': 'ratingValue'})\n",
    "    \n",
    "    return float(imdb_rating.text) if imdb_rating else np.nan\n",
    "\n",
    "# Load the datasets\n",
    "links = pd.read_csv('links.csv')  # Make sure to have the correct path to your 'links.csv' file\n",
    "movies_filtered = pd.read_csv('movies_filtered.csv')  # This should contain movies with more than 50 ratings\n",
    "\n",
    "# Merge the links with the filtered movies data\n",
    "movies_with_links = pd.merge(movies_filtered, links, on='movieId')\n",
    "\n",
    "# Dictionary to store IMDB ratings\n",
    "imdb_ratings = {}\n",
    "\n",
    "# Iterate through movies and get IMDB ratings\n",
    "for index, row in movies_with_links.iterrows():\n",
    "    imdb_id = row['imdbId']  # Ensure this is the correct column name from links.csv\n",
    "    rating = scrapper(imdb_id)\n",
    "    imdb_ratings[row['movieId']] = rating\n",
    "    print(f\"Fetched IMDB rating for movieId {row['movieId']}: {rating}\")\n",
    "\n",
    "# Find the movie with the highest IMDB rating\n",
    "highest_rated_movie_id = max(imdb_ratings, key=imdb_ratings.get)\n",
    "highest_rating = imdb_ratings[highest_rated_movie_id]\n",
    "\n",
    "print(f\"MovieId of the movie with the highest IMDB rating: {highest_rated_movie_id}\")\n",
    "print(f\"Highest IMDB Rating: {highest_rating:.1f}\")\n"
   ]
  },
  {
   "cell_type": "code",
   "execution_count": 35,
   "metadata": {},
   "outputs": [
    {
     "name": "stdout",
     "output_type": "stream",
     "text": [
      "Fetched IMDB rating for movieId 32: nan\n",
      "Fetched IMDB rating for movieId 160: nan\n",
      "Fetched IMDB rating for movieId 172: nan\n",
      "Fetched IMDB rating for movieId 173: nan\n",
      "Fetched IMDB rating for movieId 208: nan\n",
      "Fetched IMDB rating for movieId 260: nan\n",
      "Fetched IMDB rating for movieId 292: nan\n",
      "Fetched IMDB rating for movieId 316: nan\n",
      "Fetched IMDB rating for movieId 329: nan\n",
      "Fetched IMDB rating for movieId 435: nan\n",
      "Fetched IMDB rating for movieId 442: nan\n",
      "Fetched IMDB rating for movieId 480: nan\n",
      "Fetched IMDB rating for movieId 541: nan\n",
      "Fetched IMDB rating for movieId 589: nan\n",
      "Fetched IMDB rating for movieId 673: nan\n",
      "Fetched IMDB rating for movieId 780: nan\n",
      "Fetched IMDB rating for movieId 788: nan\n",
      "Fetched IMDB rating for movieId 924: nan\n",
      "Fetched IMDB rating for movieId 1097: nan\n",
      "Fetched IMDB rating for movieId 1127: nan\n",
      "Fetched IMDB rating for movieId 1196: nan\n",
      "Fetched IMDB rating for movieId 1199: nan\n",
      "Fetched IMDB rating for movieId 1200: nan\n",
      "Fetched IMDB rating for movieId 1206: nan\n",
      "Fetched IMDB rating for movieId 1210: nan\n",
      "Fetched IMDB rating for movieId 1214: nan\n",
      "Fetched IMDB rating for movieId 1240: nan\n",
      "Fetched IMDB rating for movieId 1270: nan\n",
      "Fetched IMDB rating for movieId 1356: nan\n",
      "Fetched IMDB rating for movieId 1374: nan\n",
      "Fetched IMDB rating for movieId 1391: nan\n",
      "Fetched IMDB rating for movieId 1527: nan\n",
      "Fetched IMDB rating for movieId 1544: nan\n",
      "Fetched IMDB rating for movieId 1580: nan\n",
      "Fetched IMDB rating for movieId 1584: nan\n",
      "Fetched IMDB rating for movieId 1653: nan\n",
      "Fetched IMDB rating for movieId 1676: nan\n",
      "Fetched IMDB rating for movieId 1682: nan\n",
      "Fetched IMDB rating for movieId 1917: nan\n",
      "Fetched IMDB rating for movieId 2011: nan\n",
      "Fetched IMDB rating for movieId 2012: nan\n",
      "Fetched IMDB rating for movieId 2054: nan\n",
      "Fetched IMDB rating for movieId 2529: nan\n",
      "Fetched IMDB rating for movieId 2571: nan\n",
      "Fetched IMDB rating for movieId 2628: nan\n",
      "Fetched IMDB rating for movieId 2640: nan\n",
      "Fetched IMDB rating for movieId 2657: nan\n",
      "Fetched IMDB rating for movieId 2701: nan\n",
      "Fetched IMDB rating for movieId 2716: nan\n",
      "Fetched IMDB rating for movieId 2916: nan\n",
      "Fetched IMDB rating for movieId 2985: nan\n",
      "Fetched IMDB rating for movieId 3033: nan\n",
      "Fetched IMDB rating for movieId 3175: nan\n",
      "Fetched IMDB rating for movieId 3471: nan\n",
      "Fetched IMDB rating for movieId 3527: nan\n",
      "Fetched IMDB rating for movieId 3793: nan\n",
      "Fetched IMDB rating for movieId 3994: nan\n",
      "Fetched IMDB rating for movieId 4370: nan\n",
      "Fetched IMDB rating for movieId 4878: nan\n",
      "Fetched IMDB rating for movieId 5349: nan\n",
      "Fetched IMDB rating for movieId 5378: nan\n",
      "Fetched IMDB rating for movieId 5445: nan\n",
      "Fetched IMDB rating for movieId 5459: nan\n",
      "Fetched IMDB rating for movieId 5502: nan\n",
      "Fetched IMDB rating for movieId 6333: nan\n",
      "Fetched IMDB rating for movieId 6365: nan\n",
      "Fetched IMDB rating for movieId 6502: nan\n",
      "Fetched IMDB rating for movieId 6934: nan\n",
      "Fetched IMDB rating for movieId 7361: nan\n",
      "Fetched IMDB rating for movieId 8636: nan\n",
      "Fetched IMDB rating for movieId 8644: nan\n",
      "Fetched IMDB rating for movieId 33493: nan\n",
      "Fetched IMDB rating for movieId 44191: nan\n",
      "Fetched IMDB rating for movieId 45499: nan\n",
      "Fetched IMDB rating for movieId 48774: nan\n",
      "Fetched IMDB rating for movieId 48780: nan\n",
      "Fetched IMDB rating for movieId 56174: nan\n",
      "Fetched IMDB rating for movieId 59315: nan\n",
      "Fetched IMDB rating for movieId 60069: nan\n",
      "Fetched IMDB rating for movieId 68358: nan\n",
      "Fetched IMDB rating for movieId 70286: nan\n",
      "Fetched IMDB rating for movieId 72998: nan\n",
      "Fetched IMDB rating for movieId 79132: nan\n",
      "Fetched IMDB rating for movieId 89745: nan\n",
      "Fetched IMDB rating for movieId 91500: nan\n",
      "Fetched IMDB rating for movieId 109487: nan\n",
      "Fetched IMDB rating for movieId 112852: nan\n",
      "Fetched IMDB rating for movieId 122904: nan\n",
      "MovieId of the 'Sci-Fi' movie with the highest IMDB rating: 32\n",
      "Highest IMDB Rating among 'Sci-Fi' movies: nan\n"
     ]
    }
   ],
   "source": [
    "import pandas as pd\n",
    "import requests\n",
    "import numpy as np\n",
    "from bs4 import BeautifulSoup\n",
    "\n",
    "# Define the scrapper function to fetch IMDB rating\n",
    "def scrapper(imdbId):\n",
    "    id = str(int(imdbId))\n",
    "    n_zeroes = 7 - len(id)\n",
    "    new_id = \"0\" * n_zeroes + id\n",
    "    URL = f\"https://www.imdb.com/title/tt{new_id}/\"\n",
    "    request_header = {\n",
    "        'Content-Type': 'text/html; charset=UTF-8', \n",
    "        'User-Agent': 'Chrome/5.0 (Windows NT 10.0; Win64; x64; rv:109.0) Gecko/20100101 Chrome/119.0', \n",
    "        'Accept-Encoding': 'gzip, deflate, br'\n",
    "    }\n",
    "    \n",
    "    response = requests.get(URL, headers=request_header)\n",
    "    soup = BeautifulSoup(response.text, 'html.parser')\n",
    "    imdb_rating = soup.find('span', attrs={'itemprop': 'ratingValue'})\n",
    "    \n",
    "    return float(imdb_rating.text) if imdb_rating else np.nan\n",
    "\n",
    "# Load the datasets\n",
    "links = pd.read_csv('links.csv')  # Make sure to have the correct path to your 'links.csv' file\n",
    "movies_filtered = pd.read_csv('movies_filtered.csv')  # This should contain movies with more than 50 ratings\n",
    "\n",
    "# Filter for \"Sci-Fi\" movies\n",
    "sci_fi_movies = movies_filtered[movies_filtered['genres'].str.contains('Sci-Fi', case=False, na=False)]\n",
    "\n",
    "# Merge the links with the filtered Sci-Fi movies data\n",
    "sci_fi_movies_with_links = pd.merge(sci_fi_movies, links, on='movieId')\n",
    "\n",
    "# Dictionary to store IMDB ratings\n",
    "imdb_ratings = {}\n",
    "\n",
    "# Iterate through \"Sci-Fi\" movies and get IMDB ratings\n",
    "for index, row in sci_fi_movies_with_links.iterrows():\n",
    "    imdb_id = row['imdbId']  # Ensure this is the correct column name from links.csv\n",
    "    rating = scrapper(imdb_id)\n",
    "    imdb_ratings[row['movieId']] = rating\n",
    "    print(f\"Fetched IMDB rating for movieId {row['movieId']}: {rating}\")\n",
    "\n",
    "# Find the \"Sci-Fi\" movie with the highest IMDB rating\n",
    "highest_rated_sci_fi_movie_id = max(imdb_ratings, key=imdb_ratings.get)\n",
    "highest_sci_fi_rating = imdb_ratings[highest_rated_sci_fi_movie_id]\n",
    "\n",
    "print(f\"MovieId of the 'Sci-Fi' movie with the highest IMDB rating: {highest_rated_sci_fi_movie_id}\")\n",
    "print(f\"Highest IMDB Rating among 'Sci-Fi' movies: {highest_sci_fi_rating:.1f}\")\n"
   ]
  }
 ],
 "metadata": {
  "kernelspec": {
   "display_name": "Python 3",
   "language": "python",
   "name": "python3"
  },
  "language_info": {
   "codemirror_mode": {
    "name": "ipython",
    "version": 3
   },
   "file_extension": ".py",
   "mimetype": "text/x-python",
   "name": "python",
   "nbconvert_exporter": "python",
   "pygments_lexer": "ipython3",
   "version": "3.11.2"
  }
 },
 "nbformat": 4,
 "nbformat_minor": 2
}
